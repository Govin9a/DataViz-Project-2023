{
 "cells": [
  {
   "cell_type": "code",
   "execution_count": null,
   "id": "c23b8625-08e8-40b7-a3ea-e47e2e22ea61",
   "metadata": {
    "tags": []
   },
   "outputs": [],
   "source": [
    "#Import and helper functions\n",
    "import sqlite3\n",
    "import pandas as pd\n",
    "import re\n",
    "import numpy as np \n",
    "import sys\n",
    "import json\n",
    "\n",
    "#Helper functions from Kolton\n",
    "def get_col_names(cursor, table_name):\n",
    "    '''\n",
    "    Retrieves the column names for a table in a sqlite3 db.\n",
    "    ------\n",
    "    cursor: sqliteConnection cursor object\n",
    "    table_name: table_name to get column names for\n",
    "    '''\n",
    "    cursor.execute(f\"\"\"\n",
    "    SELECT sql FROM sqlite_master WHERE name='{table_name}';\n",
    "    \"\"\")\n",
    "    \n",
    "    res = mimiciii.fetchall()\n",
    "    cols = re.findall(r'\\\"\\w+\\\"', res[0][0])\n",
    "    return [x[1:-1] for x in cols]\n",
    "\n",
    "def get_df_from_table_from_db(cursor, table_name, num_rows='*', skip_cols=[]):\n",
    "    '''\n",
    "    Retreives table from sqlite3 db in form of df\n",
    "    ------\n",
    "    cursor: sqliteConnection cursor object\n",
    "    table_name: name of table to get from cursor db\n",
    "    num_rows: number of rows to retrieve (or '*' for all rows)\n",
    "    skip_cols: list of columns to skip in the retrieval\n",
    "    '''\n",
    "    col_names = get_col_names(cursor, table_name)\n",
    "    \n",
    "    use_cols = [col for col in col_names if col not in skip_cols]\n",
    "    \n",
    "    if num_rows == '*':\n",
    "        query = f'''select {', '.join(use_cols)} from {table_name};'''\n",
    "    else:\n",
    "        query = f'''select {', '.join(use_cols)} from {table_name} limit {num_rows};'''\n",
    "        \n",
    "    cursor.execute(query)\n",
    "    rows = cursor.fetchall()\n",
    "    \n",
    "    return pd.DataFrame(rows, columns=use_cols)\n",
    "\n",
    "def get_tables_list_from_db(cursor):\n",
    "    cursor.execute(\"\"\"\n",
    "    select name from sqlite-master where type='table';\n",
    "    \"\"\")\n",
    "    table_names = [table[0] for table in cursor.fetchall()]\n",
    "    return table_names\n",
    "\n",
    "def to_int(x):\n",
    "    if not x or np.isnan(x):\n",
    "        return 0\n",
    "    return int(x)"
   ]
  },
  {
   "cell_type": "code",
   "execution_count": null,
   "id": "0db6448e-2297-4893-80a5-44d1305683b5",
   "metadata": {
    "tags": []
   },
   "outputs": [],
   "source": [
    "#relative path to where the mimic3.db file is\n",
    "db_path = 'D:/mimic-iii-clinical-database-1.4/mimic3.db'\n",
    "#connection object to db\n",
    "sqliteConnection = sqlite3.connect(db_path)\n",
    "#cursor/pointer\n",
    "mimiciii = sqliteConnection.cursor()"
   ]
  },
  {
   "cell_type": "code",
   "execution_count": null,
   "id": "878f6c5f-5e30-4653-aec8-0d48a790d0a3",
   "metadata": {
    "tags": []
   },
   "outputs": [],
   "source": [
    "#Extract admission table with designated attributes\n",
    "admission = get_df_from_table_from_db(mimiciii, 'admissions')\n",
    "admission = admission.apply(lambda x: x.astype(str).str.upper())\n",
    "admission.HADM_ID = admission.HADM_ID.astype('int64')\n",
    "admission.SUBJECT_ID = admission.SUBJECT_ID.astype('int64')\n",
    "\n",
    "admission = admission[['HADM_ID','SUBJECT_ID','DIAGNOSIS']]\n",
    "admission.head()"
   ]
  },
  {
   "cell_type": "code",
   "execution_count": null,
   "id": "24c52517-b60e-4352-825a-ca933fe39e68",
   "metadata": {
    "tags": []
   },
   "outputs": [],
   "source": [
    "#Import json for HADM_ID list of arf diagnosis\n",
    "arf_data = []\n",
    "with open('arf_hadm_ids.json') as json_file:\n",
    "   arf_data = json.load(json_file)\n",
    "admission.loc[admission['HADM_ID'].isin(list(map(int, arf_data)))]"
   ]
  },
  {
   "cell_type": "code",
   "execution_count": null,
   "id": "269e1569-c670-45c0-81b2-562239713cb6",
   "metadata": {
    "tags": []
   },
   "outputs": [],
   "source": [
    "#Mark arf as arf, and the rest as other\n",
    "admission['WR_DIAGNOSIS'] = np.full(len(admission),\"Other\")\n",
    "admission.loc[admission['HADM_ID'].isin(list(map(int, arf_data))),'WR_DIAGNOSIS'] = \"ARF\" \n",
    "admission['WR_DIAGNOSIS'].value_counts()"
   ]
  },
  {
   "cell_type": "code",
   "execution_count": null,
   "id": "4342ed47-cf91-49a7-a36a-14006cbf1571",
   "metadata": {
    "tags": []
   },
   "outputs": [],
   "source": [
    "# Read the labevents table, which is huge\n",
    "labevents = get_df_from_table_from_db(mimiciii, 'labevents')\n",
    "labevents = labevents[~np.isnan(labevents['HADM_ID'])]\n",
    "labevents.HADM_ID = labevents.HADM_ID.astype('int64')\n",
    "labevents.to_csv(\"temp_labevent.csv\",index=False)\n",
    "labevents.head()"
   ]
  },
  {
   "cell_type": "code",
   "execution_count": null,
   "id": "61f70b65-f647-4bf3-97fe-2e65b01180b5",
   "metadata": {
    "tags": []
   },
   "outputs": [],
   "source": [
    "# Read the labitems table for ITEMID-test name mapping\n",
    "test_names = get_df_from_table_from_db(mimiciii, 'd_labitems')\n",
    "test_names.head()"
   ]
  },
  {
   "cell_type": "code",
   "execution_count": null,
   "id": "bd311768-f976-411e-a936-af8e026d8a73",
   "metadata": {
    "tags": []
   },
   "outputs": [],
   "source": [
    "# There are too many tests types and not all of them are performed for a HADM_ID\n",
    "# So instead, we pick the most common 10 tests to decrease the number of dropped tests when doing dropna \n",
    "most_common_tests = labevents.groupby('ITEMID').count().sort_values(by='HADM_ID', ascending=False)[0:10]\n",
    "most_common_tests = pd.DataFrame({'ITEMID':most_common_tests.index,'COUNT':most_common_tests['HADM_ID']})\n",
    "most_common_tests.reset_index(drop=True,inplace=True)\n",
    "most_common_tests = most_common_tests.merge(test_names,on='ITEMID',how='left')[['ITEMID','LABEL']]\n",
    "most_common_tests"
   ]
  },
  {
   "cell_type": "code",
   "execution_count": null,
   "id": "9cffa803-2be2-4f79-8788-869b582fd9b7",
   "metadata": {
    "tags": []
   },
   "outputs": [],
   "source": [
    "# Filter the labevents according to the most common tests\n",
    "labevents = labevents[labevents['ITEMID'].isin(most_common_tests['ITEMID'].unique())]\n",
    "labevents"
   ]
  },
  {
   "cell_type": "code",
   "execution_count": null,
   "id": "332caadb-1b98-4cd4-9d1c-b0c2d77e7c94",
   "metadata": {
    "tags": []
   },
   "outputs": [],
   "source": [
    "# Align two tables\n",
    "labevents = labevents[labevents['HADM_ID'].isin(admission['HADM_ID'].unique())]\n",
    "admission = admission[admission['HADM_ID'].isin(labevents['HADM_ID'].unique())]\n",
    "print(len(labevents['HADM_ID'].unique()))\n",
    "print(len(admission['HADM_ID'].unique()))"
   ]
  },
  {
   "cell_type": "code",
   "execution_count": null,
   "id": "dd8d999a-4c3e-423d-8627-eae4ed89538b",
   "metadata": {
    "tags": []
   },
   "outputs": [],
   "source": [
    "# Make columns for most common tests' values and abnormalities\n",
    "import warnings\n",
    "warnings.filterwarnings(\"ignore\")\n",
    "for name in most_common_tests['LABEL']:\n",
    "    admission.loc[:,name] = np.full(len(admission),\"\")\n",
    "    admission.loc[:,name+\"_ab\"] = np.full(len(admission),False)\n",
    "admission"
   ]
  },
  {
   "cell_type": "code",
   "execution_count": null,
   "id": "fad89d12-ca78-4a71-a21a-8d6f267a5afa",
   "metadata": {
    "tags": []
   },
   "outputs": [],
   "source": [
    "# Collect values form labevents and fill them into admission dataframe\n",
    "for id in admission['HADM_ID']:\n",
    "    temp = labevents[labevents['HADM_ID'] == id]\n",
    "    for item in most_common_tests['ITEMID']:\n",
    "        row = admission['HADM_ID'] == id\n",
    "        col = most_common_tests[most_common_tests['ITEMID'] == item]['LABEL'].values[0]\n",
    "        if len(temp[temp['ITEMID'] == item]['VALUE'].values) <= 0:\n",
    "            admission.loc[row, col] = np.NaN\n",
    "            admission.loc[row, col+'_ab'] = np.NaN\n",
    "        else:\n",
    "            admission.loc[row, col] = temp[temp['ITEMID'] == item]['VALUE'].values[0]\n",
    "            admission.loc[row, col+'_ab'] = temp[temp['ITEMID'] == item]['FLAG'].values[0] == \"abnormal\""
   ]
  },
  {
   "cell_type": "code",
   "execution_count": null,
   "id": "25da9b6e-97d0-44bb-a169-d3152b5b62b5",
   "metadata": {},
   "outputs": [],
   "source": [
    "# Save the data for later use\n",
    "admission.to_csv(\"ED_Wrangling_Result.csv\",index=False)"
   ]
  }
 ],
 "metadata": {
  "kernelspec": {
   "display_name": "Python 3 (ipykernel)",
   "language": "python",
   "name": "python3"
  },
  "language_info": {
   "codemirror_mode": {
    "name": "ipython",
    "version": 3
   },
   "file_extension": ".py",
   "mimetype": "text/x-python",
   "name": "python",
   "nbconvert_exporter": "python",
   "pygments_lexer": "ipython3",
   "version": "3.11.5"
  }
 },
 "nbformat": 4,
 "nbformat_minor": 5
}
